{
 "cells": [
  {
   "cell_type": "markdown",
   "metadata": {},
   "source": [
    "Soal 1: Menentukan Bilangan Ganjil dan Genap \n",
    "Buatlah sebuah program yang meminta pengguna untuk memasukkan sebuah angka. Program tersebut kemudian harus menentukan apakah angka tersebut adalah bilangan ganjil atau genap."
   ]
  },
  {
   "cell_type": "code",
   "execution_count": 32,
   "metadata": {},
   "outputs": [
    {
     "name": "stdout",
     "output_type": "stream",
     "text": [
      "tidak ada angka yang dimasukkan\n"
     ]
    }
   ],
   "source": [
    "# Jawab 1\n",
    "try:\n",
    "    angka = int(input(\"Masukan angka : \"))\n",
    "    if angka %2 == 0:\n",
    "        print(\"Angka\", angka, \"adalah bilangan genap\")\n",
    "    else :\n",
    "        print(\"Angka\", angka, \"yang dimasukan adalah bilangan ganjil\")\n",
    "except ValueError:\n",
    "    print('tidak ada angka yang dimasukkan')    "
   ]
  },
  {
   "cell_type": "markdown",
   "metadata": {},
   "source": [
    "Soal 2: Menentukan Kelulusan Siswa\n",
    "Buatlah sebuah program yang mengevaluasi nilai siswa. Jika nilai siswa 70 atau lebih, siswa tersebut lulus. Jika tidak, siswa tersebut tidak lulus. Program harus mengeluarkan pesan yang sesuai berdasarkan nilai siswa."
   ]
  },
  {
   "cell_type": "code",
   "execution_count": 33,
   "metadata": {},
   "outputs": [
    {
     "name": "stdout",
     "output_type": "stream",
     "text": [
      "tidak ada nilai yang dimasukkan\n"
     ]
    }
   ],
   "source": [
    "# Jawab 2\n",
    "try:\n",
    "    nilai = int(input(\"Masukan nilai : \"))\n",
    "    if nilai >= 70 :\n",
    "        print(\"Angka\", nilai, \"Lulus\")\n",
    "    else :\n",
    "        print(\"Angka\",  nilai, \"tidak Lulus\")\n",
    "except ValueError:\n",
    "    print('tidak ada nilai yang dimasukkan')    "
   ]
  },
  {
   "cell_type": "markdown",
   "metadata": {},
   "source": [
    "Soal 3: Menentukan Rentang Nilai \n",
    "Buatlah sebuah program yang meminta pengguna untuk memasukkan sebuah nilai. Berdasarkan nilai tersebut, keluarkan kategori nilai sebagai berikut: A untuk nilai 80-100, B untuk nilai 60-79, C untuk nilai 40-59, dan D untuk nilai di bawah 40."
   ]
  },
  {
   "cell_type": "code",
   "execution_count": 30,
   "metadata": {},
   "outputs": [
    {
     "name": "stdout",
     "output_type": "stream",
     "text": [
      "Nilai : 29\n",
      "kategori : D\n"
     ]
    }
   ],
   "source": [
    "# Jawab 3\n",
    "try:\n",
    "    nilai = int(input(\"Masukkan nilai : \"))\n",
    "\n",
    "    if nilai >= 80 and nilai <= 100:\n",
    "        kategori = 'A'\n",
    "    elif nilai >= 60 and nilai <= 79:\n",
    "        kategori = 'B'\n",
    "    elif nilai >= 40 and nilai <= 59:\n",
    "        kategori = 'C'\n",
    "    else:\n",
    "        kategori = 'D'\n",
    "\n",
    "    print('Nilai :',nilai,)\n",
    "    print('kategori :',kategori)\n",
    "\n",
    "except ValueError:\n",
    "    print(\"Tidak ada nilai yang dimasukan\")"
   ]
  },
  {
   "cell_type": "markdown",
   "metadata": {},
   "source": [
    "Soal 4: Sistem Penilaian Mahasiswa Berbasis Robot\n",
    "Buatlah sebuah program yang menghitung nilai akhir mahasiswa berdasarkan beberapa komponen penilaian: kehadiran (10%), tugas (20%), kuis (20%), UTS (25%), dan UAS (25%). Program harus meminta pengguna untuk memasukkan nilai untuk setiap komponen, kemudian menghitung dan menampilkan nilai akhir beserta predikat kelulusannya. Predikat kelulusan diberikan sebagai berikut:\n",
    " \n",
    "A untuk nilai >= 80\n",
    "B untuk nilai >= 70 dan < 80\n",
    "C untuk nilai >= 60 dan < 70\n",
    "D untuk nilai >= 50 dan < 60\n",
    "E untuk nilai < 50"
   ]
  },
  {
   "cell_type": "code",
   "execution_count": 26,
   "metadata": {},
   "outputs": [
    {
     "name": "stdout",
     "output_type": "stream",
     "text": [
      "Nilai akhir: 66.0\n",
      "Predikat kelulusan: C\n"
     ]
    }
   ],
   "source": [
    "# Jawab 4\n",
    "try:\n",
    "    kehadiran = int(input(\"Masukkan nilai kehadiran (dalam persentase): \"))\n",
    "    tugas = int(input(\"Masukkan nilai tugas: \"))\n",
    "    kuis = int(input(\"Masukkan nilai kuis: \"))\n",
    "    uts = int(input(\"Masukkan nilai UTS: \"))\n",
    "    uas = int(input(\"Masukkan nilai UAS: \"))\n",
    "\n",
    "    nilai_akhir = kehadiran * 0.1 + tugas * 0.2 + kuis * 0.2 + uts * 0.25 + uas * 0.25\n",
    "\n",
    "    if nilai_akhir >= 80:\n",
    "        predikat = 'A'\n",
    "    elif nilai_akhir >= 70:\n",
    "        predikat = 'B'\n",
    "    elif nilai_akhir >= 60:\n",
    "        predikat = 'C'\n",
    "    elif nilai_akhir >= 50:\n",
    "        predikat = 'D'\n",
    "    else:\n",
    "        predikat = 'E'\n",
    "\n",
    "    print(\"Nilai akhir:\", nilai_akhir)\n",
    "    print(\"Predikat kelulusan:\", predikat)\n",
    "\n",
    "except ValueError:\n",
    "    print(\"tidak ada nilai yang diinput\")\n"
   ]
  },
  {
   "cell_type": "markdown",
   "metadata": {},
   "source": [
    "Soal 5: Menentukan Tahun Kabisat \n",
    "Buatlah sebuah program yang menentukan apakah sebuah tahun adalah tahun kabisat. Sebuah tahun dianggap kabisat jika tahun tersebut habis dibagi 4, kecuali jika tahun tersebut habis dibagi 100, kecuali lagi jika tahun tersebut habis dibagi 400."
   ]
  },
  {
   "cell_type": "code",
   "execution_count": 3,
   "metadata": {},
   "outputs": [
    {
     "name": "stdout",
     "output_type": "stream",
     "text": [
      "2000 adalah tahun kabisat\n"
     ]
    }
   ],
   "source": [
    "# Jawab 5\n",
    "try:\n",
    "    tahun = int(input(\"Masukkan tahun: \"))\n",
    "\n",
    "    if tahun % 4 == 0 and tahun % 100 == 0 or tahun % 400 == 0:\n",
    "        print(tahun, \"adalah tahun kabisat\")\n",
    "    else:\n",
    "        print(tahun, \"bukan tahun kabisat\")\n",
    "\n",
    "except ValueError:\n",
    "    print(\"tidak ada nilai yang diinput\")\n"
   ]
  }
 ],
 "metadata": {
  "kernelspec": {
   "display_name": "myenv",
   "language": "python",
   "name": "python3"
  },
  "language_info": {
   "codemirror_mode": {
    "name": "ipython",
    "version": 3
   },
   "file_extension": ".py",
   "mimetype": "text/x-python",
   "name": "python",
   "nbconvert_exporter": "python",
   "pygments_lexer": "ipython3",
   "version": "3.11.5"
  }
 },
 "nbformat": 4,
 "nbformat_minor": 2
}
